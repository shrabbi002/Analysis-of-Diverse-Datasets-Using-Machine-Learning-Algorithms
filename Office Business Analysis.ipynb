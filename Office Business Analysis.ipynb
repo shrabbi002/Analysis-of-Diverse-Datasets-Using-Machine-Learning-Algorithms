{
  "nbformat": 4,
  "nbformat_minor": 0,
  "metadata": {
    "colab": {
      "provenance": []
    },
    "kernelspec": {
      "name": "python3",
      "display_name": "Python 3"
    },
    "language_info": {
      "name": "python"
    }
  },
  "cells": [
    {
      "cell_type": "markdown",
      "source": [
        "#Sakhawat Hossain Rabbi"
      ],
      "metadata": {
        "id": "fbOjjw1dqYUO"
      }
    },
    {
      "cell_type": "code",
      "execution_count": null,
      "metadata": {
        "id": "mrgohQRFt3ym"
      },
      "outputs": [],
      "source": [
        "import numpy as np\n",
        "import pandas as pd\n",
        "from sklearn.model_selection import train_test_split\n",
        "from sklearn.preprocessing import LabelEncoder\n",
        "from sklearn.ensemble import AdaBoostClassifier,RandomForestRegressor,RandomForestClassifier\n",
        "from sklearn.tree import DecisionTreeClassifier\n",
        "from sklearn.svm import SVC\n",
        "from xgboost import XGBClassifier\n",
        "from sklearn.metrics import accuracy_score\n",
        "from sklearn.model_selection import train_test_split\n",
        "from sklearn.metrics import accuracy_score"
      ]
    },
    {
      "cell_type": "code",
      "source": [
        "df = pd.read_csv('/content/test (1).csv')"
      ],
      "metadata": {
        "id": "WxBMtePiuN8I"
      },
      "execution_count": null,
      "outputs": []
    },
    {
      "cell_type": "code",
      "source": [
        "df.head(10)"
      ],
      "metadata": {
        "colab": {
          "base_uri": "https://localhost:8080/",
          "height": 1000
        },
        "id": "KWnRYdoFulaF",
        "outputId": "f8d94c60-9aa3-427e-cbc6-85d914b4a9e5"
      },
      "execution_count": null,
      "outputs": [
        {
          "output_type": "execute_result",
          "data": {
            "text/plain": [
              "            UEI                 Company Name            PIID        IDVPIID  \\\n",
              "0  F8G4FTQNUZT7      BRAVIUM CONSULTING INC.  75ACF121F80002     GS35F461CA   \n",
              "1  QHBLBNKKV4U3     ICF INCORPORATED, L.L.C.  75ACF122F80053     GS00F010CA   \n",
              "2  QHBLBNKKV4U3     ICF INCORPORATED, L.L.C.  75ACF122F80021     GS00F010CA   \n",
              "3  QHBLBNKKV4U3     ICF INCORPORATED, L.L.C.  75ACF122F80037     GS00F010CA   \n",
              "4  GPV8EN61NBN6     INFO GAIN CONSULTING LLC  75ACF122C00023            NaN   \n",
              "5  VNAYDLRGSKU3        URBAN INSTITUTE (THE)  75ACF121F80036  47QRAA18D003Z   \n",
              "6  LE1MCXJEQGK8          MEF ASSOCIATES, LLC  75ACF121F80031  47QRAA19D00DK   \n",
              "7  SRG2J1WS9X63            SRI INTERNATIONAL  75ACF121F80032  47QRAA21D002R   \n",
              "8  JJHCMK4NT5N3  RESEARCH TRIANGLE INSTITUTE  75ACF122F80038     GS00F354CA   \n",
              "9  DMHDNDCPWUD1        THE MITRE CORPORATION  75ACF122F80033  75FCMC18D0047   \n",
              "\n",
              "                                     Agency  \\\n",
              "0  Administration for Children and Families   \n",
              "1  Administration for Children and Families   \n",
              "2  Administration for Children and Families   \n",
              "3  Administration for Children and Families   \n",
              "4  Administration for Children and Families   \n",
              "5  Administration for Children and Families   \n",
              "6  Administration for Children and Families   \n",
              "7  Administration for Children and Families   \n",
              "8  Administration for Children and Families   \n",
              "9  Administration for Children and Families   \n",
              "\n",
              "                                       Contract Desc Set Aside  \\\n",
              "0  SERVICENOW SOFTWARE LICENSE SUBSCRIPTIONS FOR ...        8A   \n",
              "1  LOW INCOME HOME ENERGY ASSISTANCE PROGRAM  (LI...       NaN   \n",
              "2  STATE CAPACITY BUILDING CENTER TECHNICAL ASSIS...       NaN   \n",
              "3  THIS TASK ORDER IS INTENDED TO PROCURE A WIDE ...       NaN   \n",
              "4  COMMUNITY ECONOMIC DEVELOPMENT (CED) GRANT PRO...       8AN   \n",
              "5  ADVANCING CONTEXTUAL ANALYSIS AND METHODS OF P...       NaN   \n",
              "6  THE CONTRACTOR SHALL PROVIDE ALL PERSONNEL, EQ...       SBA   \n",
              "7  ACF DATA GOVERNANCE CONSULTING AND SUPPORT EXT...       NaN   \n",
              "8  ADOLESCENT DEVELOPMENT PRODUCTS AND THE WE THI...       NaN   \n",
              "9  TRAINING AND TECHNICAL ASSISTANCE STRATEGY: ST...       NaN   \n",
              "\n",
              "                                Principal Naics Code    Contract Pricing  \\\n",
              "0            541512-Computer Systems Design Services         Fixed Price   \n",
              "1  541611-Administrative Management and General M...         Fixed Price   \n",
              "2  541611-Administrative Management and General M...         Fixed Price   \n",
              "3  541611-Administrative Management and General M...  Time and Materials   \n",
              "4  541611-Administrative Management and General M...         Fixed Price   \n",
              "5  541611-Administrative Management and General M...  Time and Materials   \n",
              "6  541611-Administrative Management and General M...  Time and Materials   \n",
              "7  541611-Administrative Management and General M...  Time and Materials   \n",
              "8  541611-Administrative Management and General M...         Fixed Price   \n",
              "9  541990-All Other Professional, Scientific, and...         Fixed Price   \n",
              "\n",
              "            Contract Date    Contract Expiry Date  Obligated Amount POP state  \n",
              "0  10/30/2020 12:00:00 AM  10/31/2025 12:00:00 AM            264562        MD  \n",
              "1  09/30/2022 12:00:00 AM  09/29/2025 12:00:00 AM            871819        DC  \n",
              "2  09/29/2022 12:00:00 AM  09/29/2025 12:00:00 AM          13214685        VA  \n",
              "3  09/28/2022 12:00:00 AM  09/29/2025 12:00:00 AM           1239525        VA  \n",
              "4  09/06/2022 12:00:00 AM  09/29/2025 12:00:00 AM            203480        DC  \n",
              "5  09/27/2021 12:00:00 AM  09/29/2025 12:00:00 AM           1643484        DC  \n",
              "6  09/22/2021 12:00:00 AM  09/29/2025 12:00:00 AM           1094728        VA  \n",
              "7  09/19/2021 12:00:00 AM  09/29/2025 12:00:00 AM            693611        DC  \n",
              "8  09/22/2022 12:00:00 AM  09/27/2025 12:00:00 AM           1396697        DC  \n",
              "9  09/23/2022 12:00:00 AM  08/30/2025 12:00:00 AM            214998        VA  "
            ],
            "text/html": [
              "\n",
              "  <div id=\"df-5c634284-2ba7-4dbd-9e92-b535518b2985\" class=\"colab-df-container\">\n",
              "    <div>\n",
              "<style scoped>\n",
              "    .dataframe tbody tr th:only-of-type {\n",
              "        vertical-align: middle;\n",
              "    }\n",
              "\n",
              "    .dataframe tbody tr th {\n",
              "        vertical-align: top;\n",
              "    }\n",
              "\n",
              "    .dataframe thead th {\n",
              "        text-align: right;\n",
              "    }\n",
              "</style>\n",
              "<table border=\"1\" class=\"dataframe\">\n",
              "  <thead>\n",
              "    <tr style=\"text-align: right;\">\n",
              "      <th></th>\n",
              "      <th>UEI</th>\n",
              "      <th>Company Name</th>\n",
              "      <th>PIID</th>\n",
              "      <th>IDVPIID</th>\n",
              "      <th>Agency</th>\n",
              "      <th>Contract Desc</th>\n",
              "      <th>Set Aside</th>\n",
              "      <th>Principal Naics Code</th>\n",
              "      <th>Contract Pricing</th>\n",
              "      <th>Contract Date</th>\n",
              "      <th>Contract Expiry Date</th>\n",
              "      <th>Obligated Amount</th>\n",
              "      <th>POP state</th>\n",
              "    </tr>\n",
              "  </thead>\n",
              "  <tbody>\n",
              "    <tr>\n",
              "      <th>0</th>\n",
              "      <td>F8G4FTQNUZT7</td>\n",
              "      <td>BRAVIUM CONSULTING INC.</td>\n",
              "      <td>75ACF121F80002</td>\n",
              "      <td>GS35F461CA</td>\n",
              "      <td>Administration for Children and Families</td>\n",
              "      <td>SERVICENOW SOFTWARE LICENSE SUBSCRIPTIONS FOR ...</td>\n",
              "      <td>8A</td>\n",
              "      <td>541512-Computer Systems Design Services</td>\n",
              "      <td>Fixed Price</td>\n",
              "      <td>10/30/2020 12:00:00 AM</td>\n",
              "      <td>10/31/2025 12:00:00 AM</td>\n",
              "      <td>264562</td>\n",
              "      <td>MD</td>\n",
              "    </tr>\n",
              "    <tr>\n",
              "      <th>1</th>\n",
              "      <td>QHBLBNKKV4U3</td>\n",
              "      <td>ICF INCORPORATED, L.L.C.</td>\n",
              "      <td>75ACF122F80053</td>\n",
              "      <td>GS00F010CA</td>\n",
              "      <td>Administration for Children and Families</td>\n",
              "      <td>LOW INCOME HOME ENERGY ASSISTANCE PROGRAM  (LI...</td>\n",
              "      <td>NaN</td>\n",
              "      <td>541611-Administrative Management and General M...</td>\n",
              "      <td>Fixed Price</td>\n",
              "      <td>09/30/2022 12:00:00 AM</td>\n",
              "      <td>09/29/2025 12:00:00 AM</td>\n",
              "      <td>871819</td>\n",
              "      <td>DC</td>\n",
              "    </tr>\n",
              "    <tr>\n",
              "      <th>2</th>\n",
              "      <td>QHBLBNKKV4U3</td>\n",
              "      <td>ICF INCORPORATED, L.L.C.</td>\n",
              "      <td>75ACF122F80021</td>\n",
              "      <td>GS00F010CA</td>\n",
              "      <td>Administration for Children and Families</td>\n",
              "      <td>STATE CAPACITY BUILDING CENTER TECHNICAL ASSIS...</td>\n",
              "      <td>NaN</td>\n",
              "      <td>541611-Administrative Management and General M...</td>\n",
              "      <td>Fixed Price</td>\n",
              "      <td>09/29/2022 12:00:00 AM</td>\n",
              "      <td>09/29/2025 12:00:00 AM</td>\n",
              "      <td>13214685</td>\n",
              "      <td>VA</td>\n",
              "    </tr>\n",
              "    <tr>\n",
              "      <th>3</th>\n",
              "      <td>QHBLBNKKV4U3</td>\n",
              "      <td>ICF INCORPORATED, L.L.C.</td>\n",
              "      <td>75ACF122F80037</td>\n",
              "      <td>GS00F010CA</td>\n",
              "      <td>Administration for Children and Families</td>\n",
              "      <td>THIS TASK ORDER IS INTENDED TO PROCURE A WIDE ...</td>\n",
              "      <td>NaN</td>\n",
              "      <td>541611-Administrative Management and General M...</td>\n",
              "      <td>Time and Materials</td>\n",
              "      <td>09/28/2022 12:00:00 AM</td>\n",
              "      <td>09/29/2025 12:00:00 AM</td>\n",
              "      <td>1239525</td>\n",
              "      <td>VA</td>\n",
              "    </tr>\n",
              "    <tr>\n",
              "      <th>4</th>\n",
              "      <td>GPV8EN61NBN6</td>\n",
              "      <td>INFO GAIN CONSULTING LLC</td>\n",
              "      <td>75ACF122C00023</td>\n",
              "      <td>NaN</td>\n",
              "      <td>Administration for Children and Families</td>\n",
              "      <td>COMMUNITY ECONOMIC DEVELOPMENT (CED) GRANT PRO...</td>\n",
              "      <td>8AN</td>\n",
              "      <td>541611-Administrative Management and General M...</td>\n",
              "      <td>Fixed Price</td>\n",
              "      <td>09/06/2022 12:00:00 AM</td>\n",
              "      <td>09/29/2025 12:00:00 AM</td>\n",
              "      <td>203480</td>\n",
              "      <td>DC</td>\n",
              "    </tr>\n",
              "    <tr>\n",
              "      <th>5</th>\n",
              "      <td>VNAYDLRGSKU3</td>\n",
              "      <td>URBAN INSTITUTE (THE)</td>\n",
              "      <td>75ACF121F80036</td>\n",
              "      <td>47QRAA18D003Z</td>\n",
              "      <td>Administration for Children and Families</td>\n",
              "      <td>ADVANCING CONTEXTUAL ANALYSIS AND METHODS OF P...</td>\n",
              "      <td>NaN</td>\n",
              "      <td>541611-Administrative Management and General M...</td>\n",
              "      <td>Time and Materials</td>\n",
              "      <td>09/27/2021 12:00:00 AM</td>\n",
              "      <td>09/29/2025 12:00:00 AM</td>\n",
              "      <td>1643484</td>\n",
              "      <td>DC</td>\n",
              "    </tr>\n",
              "    <tr>\n",
              "      <th>6</th>\n",
              "      <td>LE1MCXJEQGK8</td>\n",
              "      <td>MEF ASSOCIATES, LLC</td>\n",
              "      <td>75ACF121F80031</td>\n",
              "      <td>47QRAA19D00DK</td>\n",
              "      <td>Administration for Children and Families</td>\n",
              "      <td>THE CONTRACTOR SHALL PROVIDE ALL PERSONNEL, EQ...</td>\n",
              "      <td>SBA</td>\n",
              "      <td>541611-Administrative Management and General M...</td>\n",
              "      <td>Time and Materials</td>\n",
              "      <td>09/22/2021 12:00:00 AM</td>\n",
              "      <td>09/29/2025 12:00:00 AM</td>\n",
              "      <td>1094728</td>\n",
              "      <td>VA</td>\n",
              "    </tr>\n",
              "    <tr>\n",
              "      <th>7</th>\n",
              "      <td>SRG2J1WS9X63</td>\n",
              "      <td>SRI INTERNATIONAL</td>\n",
              "      <td>75ACF121F80032</td>\n",
              "      <td>47QRAA21D002R</td>\n",
              "      <td>Administration for Children and Families</td>\n",
              "      <td>ACF DATA GOVERNANCE CONSULTING AND SUPPORT EXT...</td>\n",
              "      <td>NaN</td>\n",
              "      <td>541611-Administrative Management and General M...</td>\n",
              "      <td>Time and Materials</td>\n",
              "      <td>09/19/2021 12:00:00 AM</td>\n",
              "      <td>09/29/2025 12:00:00 AM</td>\n",
              "      <td>693611</td>\n",
              "      <td>DC</td>\n",
              "    </tr>\n",
              "    <tr>\n",
              "      <th>8</th>\n",
              "      <td>JJHCMK4NT5N3</td>\n",
              "      <td>RESEARCH TRIANGLE INSTITUTE</td>\n",
              "      <td>75ACF122F80038</td>\n",
              "      <td>GS00F354CA</td>\n",
              "      <td>Administration for Children and Families</td>\n",
              "      <td>ADOLESCENT DEVELOPMENT PRODUCTS AND THE WE THI...</td>\n",
              "      <td>NaN</td>\n",
              "      <td>541611-Administrative Management and General M...</td>\n",
              "      <td>Fixed Price</td>\n",
              "      <td>09/22/2022 12:00:00 AM</td>\n",
              "      <td>09/27/2025 12:00:00 AM</td>\n",
              "      <td>1396697</td>\n",
              "      <td>DC</td>\n",
              "    </tr>\n",
              "    <tr>\n",
              "      <th>9</th>\n",
              "      <td>DMHDNDCPWUD1</td>\n",
              "      <td>THE MITRE CORPORATION</td>\n",
              "      <td>75ACF122F80033</td>\n",
              "      <td>75FCMC18D0047</td>\n",
              "      <td>Administration for Children and Families</td>\n",
              "      <td>TRAINING AND TECHNICAL ASSISTANCE STRATEGY: ST...</td>\n",
              "      <td>NaN</td>\n",
              "      <td>541990-All Other Professional, Scientific, and...</td>\n",
              "      <td>Fixed Price</td>\n",
              "      <td>09/23/2022 12:00:00 AM</td>\n",
              "      <td>08/30/2025 12:00:00 AM</td>\n",
              "      <td>214998</td>\n",
              "      <td>VA</td>\n",
              "    </tr>\n",
              "  </tbody>\n",
              "</table>\n",
              "</div>\n",
              "    <div class=\"colab-df-buttons\">\n",
              "\n",
              "  <div class=\"colab-df-container\">\n",
              "    <button class=\"colab-df-convert\" onclick=\"convertToInteractive('df-5c634284-2ba7-4dbd-9e92-b535518b2985')\"\n",
              "            title=\"Convert this dataframe to an interactive table.\"\n",
              "            style=\"display:none;\">\n",
              "\n",
              "  <svg xmlns=\"http://www.w3.org/2000/svg\" height=\"24px\" viewBox=\"0 -960 960 960\">\n",
              "    <path d=\"M120-120v-720h720v720H120Zm60-500h600v-160H180v160Zm220 220h160v-160H400v160Zm0 220h160v-160H400v160ZM180-400h160v-160H180v160Zm440 0h160v-160H620v160ZM180-180h160v-160H180v160Zm440 0h160v-160H620v160Z\"/>\n",
              "  </svg>\n",
              "    </button>\n",
              "\n",
              "  <style>\n",
              "    .colab-df-container {\n",
              "      display:flex;\n",
              "      gap: 12px;\n",
              "    }\n",
              "\n",
              "    .colab-df-convert {\n",
              "      background-color: #E8F0FE;\n",
              "      border: none;\n",
              "      border-radius: 50%;\n",
              "      cursor: pointer;\n",
              "      display: none;\n",
              "      fill: #1967D2;\n",
              "      height: 32px;\n",
              "      padding: 0 0 0 0;\n",
              "      width: 32px;\n",
              "    }\n",
              "\n",
              "    .colab-df-convert:hover {\n",
              "      background-color: #E2EBFA;\n",
              "      box-shadow: 0px 1px 2px rgba(60, 64, 67, 0.3), 0px 1px 3px 1px rgba(60, 64, 67, 0.15);\n",
              "      fill: #174EA6;\n",
              "    }\n",
              "\n",
              "    .colab-df-buttons div {\n",
              "      margin-bottom: 4px;\n",
              "    }\n",
              "\n",
              "    [theme=dark] .colab-df-convert {\n",
              "      background-color: #3B4455;\n",
              "      fill: #D2E3FC;\n",
              "    }\n",
              "\n",
              "    [theme=dark] .colab-df-convert:hover {\n",
              "      background-color: #434B5C;\n",
              "      box-shadow: 0px 1px 3px 1px rgba(0, 0, 0, 0.15);\n",
              "      filter: drop-shadow(0px 1px 2px rgba(0, 0, 0, 0.3));\n",
              "      fill: #FFFFFF;\n",
              "    }\n",
              "  </style>\n",
              "\n",
              "    <script>\n",
              "      const buttonEl =\n",
              "        document.querySelector('#df-5c634284-2ba7-4dbd-9e92-b535518b2985 button.colab-df-convert');\n",
              "      buttonEl.style.display =\n",
              "        google.colab.kernel.accessAllowed ? 'block' : 'none';\n",
              "\n",
              "      async function convertToInteractive(key) {\n",
              "        const element = document.querySelector('#df-5c634284-2ba7-4dbd-9e92-b535518b2985');\n",
              "        const dataTable =\n",
              "          await google.colab.kernel.invokeFunction('convertToInteractive',\n",
              "                                                    [key], {});\n",
              "        if (!dataTable) return;\n",
              "\n",
              "        const docLinkHtml = 'Like what you see? Visit the ' +\n",
              "          '<a target=\"_blank\" href=https://colab.research.google.com/notebooks/data_table.ipynb>data table notebook</a>'\n",
              "          + ' to learn more about interactive tables.';\n",
              "        element.innerHTML = '';\n",
              "        dataTable['output_type'] = 'display_data';\n",
              "        await google.colab.output.renderOutput(dataTable, element);\n",
              "        const docLink = document.createElement('div');\n",
              "        docLink.innerHTML = docLinkHtml;\n",
              "        element.appendChild(docLink);\n",
              "      }\n",
              "    </script>\n",
              "  </div>\n",
              "\n",
              "\n",
              "<div id=\"df-7ed5f299-12f7-457b-995c-2e61a163c033\">\n",
              "  <button class=\"colab-df-quickchart\" onclick=\"quickchart('df-7ed5f299-12f7-457b-995c-2e61a163c033')\"\n",
              "            title=\"Suggest charts.\"\n",
              "            style=\"display:none;\">\n",
              "\n",
              "<svg xmlns=\"http://www.w3.org/2000/svg\" height=\"24px\"viewBox=\"0 0 24 24\"\n",
              "     width=\"24px\">\n",
              "    <g>\n",
              "        <path d=\"M19 3H5c-1.1 0-2 .9-2 2v14c0 1.1.9 2 2 2h14c1.1 0 2-.9 2-2V5c0-1.1-.9-2-2-2zM9 17H7v-7h2v7zm4 0h-2V7h2v10zm4 0h-2v-4h2v4z\"/>\n",
              "    </g>\n",
              "</svg>\n",
              "  </button>\n",
              "\n",
              "<style>\n",
              "  .colab-df-quickchart {\n",
              "      --bg-color: #E8F0FE;\n",
              "      --fill-color: #1967D2;\n",
              "      --hover-bg-color: #E2EBFA;\n",
              "      --hover-fill-color: #174EA6;\n",
              "      --disabled-fill-color: #AAA;\n",
              "      --disabled-bg-color: #DDD;\n",
              "  }\n",
              "\n",
              "  [theme=dark] .colab-df-quickchart {\n",
              "      --bg-color: #3B4455;\n",
              "      --fill-color: #D2E3FC;\n",
              "      --hover-bg-color: #434B5C;\n",
              "      --hover-fill-color: #FFFFFF;\n",
              "      --disabled-bg-color: #3B4455;\n",
              "      --disabled-fill-color: #666;\n",
              "  }\n",
              "\n",
              "  .colab-df-quickchart {\n",
              "    background-color: var(--bg-color);\n",
              "    border: none;\n",
              "    border-radius: 50%;\n",
              "    cursor: pointer;\n",
              "    display: none;\n",
              "    fill: var(--fill-color);\n",
              "    height: 32px;\n",
              "    padding: 0;\n",
              "    width: 32px;\n",
              "  }\n",
              "\n",
              "  .colab-df-quickchart:hover {\n",
              "    background-color: var(--hover-bg-color);\n",
              "    box-shadow: 0 1px 2px rgba(60, 64, 67, 0.3), 0 1px 3px 1px rgba(60, 64, 67, 0.15);\n",
              "    fill: var(--button-hover-fill-color);\n",
              "  }\n",
              "\n",
              "  .colab-df-quickchart-complete:disabled,\n",
              "  .colab-df-quickchart-complete:disabled:hover {\n",
              "    background-color: var(--disabled-bg-color);\n",
              "    fill: var(--disabled-fill-color);\n",
              "    box-shadow: none;\n",
              "  }\n",
              "\n",
              "  .colab-df-spinner {\n",
              "    border: 2px solid var(--fill-color);\n",
              "    border-color: transparent;\n",
              "    border-bottom-color: var(--fill-color);\n",
              "    animation:\n",
              "      spin 1s steps(1) infinite;\n",
              "  }\n",
              "\n",
              "  @keyframes spin {\n",
              "    0% {\n",
              "      border-color: transparent;\n",
              "      border-bottom-color: var(--fill-color);\n",
              "      border-left-color: var(--fill-color);\n",
              "    }\n",
              "    20% {\n",
              "      border-color: transparent;\n",
              "      border-left-color: var(--fill-color);\n",
              "      border-top-color: var(--fill-color);\n",
              "    }\n",
              "    30% {\n",
              "      border-color: transparent;\n",
              "      border-left-color: var(--fill-color);\n",
              "      border-top-color: var(--fill-color);\n",
              "      border-right-color: var(--fill-color);\n",
              "    }\n",
              "    40% {\n",
              "      border-color: transparent;\n",
              "      border-right-color: var(--fill-color);\n",
              "      border-top-color: var(--fill-color);\n",
              "    }\n",
              "    60% {\n",
              "      border-color: transparent;\n",
              "      border-right-color: var(--fill-color);\n",
              "    }\n",
              "    80% {\n",
              "      border-color: transparent;\n",
              "      border-right-color: var(--fill-color);\n",
              "      border-bottom-color: var(--fill-color);\n",
              "    }\n",
              "    90% {\n",
              "      border-color: transparent;\n",
              "      border-bottom-color: var(--fill-color);\n",
              "    }\n",
              "  }\n",
              "</style>\n",
              "\n",
              "  <script>\n",
              "    async function quickchart(key) {\n",
              "      const quickchartButtonEl =\n",
              "        document.querySelector('#' + key + ' button');\n",
              "      quickchartButtonEl.disabled = true;  // To prevent multiple clicks.\n",
              "      quickchartButtonEl.classList.add('colab-df-spinner');\n",
              "      try {\n",
              "        const charts = await google.colab.kernel.invokeFunction(\n",
              "            'suggestCharts', [key], {});\n",
              "      } catch (error) {\n",
              "        console.error('Error during call to suggestCharts:', error);\n",
              "      }\n",
              "      quickchartButtonEl.classList.remove('colab-df-spinner');\n",
              "      quickchartButtonEl.classList.add('colab-df-quickchart-complete');\n",
              "    }\n",
              "    (() => {\n",
              "      let quickchartButtonEl =\n",
              "        document.querySelector('#df-7ed5f299-12f7-457b-995c-2e61a163c033 button');\n",
              "      quickchartButtonEl.style.display =\n",
              "        google.colab.kernel.accessAllowed ? 'block' : 'none';\n",
              "    })();\n",
              "  </script>\n",
              "</div>\n",
              "    </div>\n",
              "  </div>\n"
            ]
          },
          "metadata": {},
          "execution_count": 103
        }
      ]
    },
    {
      "cell_type": "code",
      "source": [
        "df.tail"
      ],
      "metadata": {
        "colab": {
          "base_uri": "https://localhost:8080/"
        },
        "id": "h7feuJjtupVL",
        "outputId": "d73d7115-186d-4024-c3c4-86fe346e0675"
      },
      "execution_count": null,
      "outputs": [
        {
          "output_type": "execute_result",
          "data": {
            "text/plain": [
              "<bound method NDFrame.tail of                 UEI                                   Company Name  \\\n",
              "0      F8G4FTQNUZT7                        BRAVIUM CONSULTING INC.   \n",
              "1      QHBLBNKKV4U3                       ICF INCORPORATED, L.L.C.   \n",
              "2      QHBLBNKKV4U3                       ICF INCORPORATED, L.L.C.   \n",
              "3      QHBLBNKKV4U3                       ICF INCORPORATED, L.L.C.   \n",
              "4      GPV8EN61NBN6                       INFO GAIN CONSULTING LLC   \n",
              "...             ...                                            ...   \n",
              "17768  HKS1BN6QXJ95                             IQ SOLUTIONS, INC.   \n",
              "17769  NACNDU85S2Q2                        JBS INTERNATIONAL, INC.   \n",
              "17770  K3RCJNRN5T46                      MAYATECH CORPORATION, THE   \n",
              "17771  DMHDNDCPWUD1                          THE MITRE CORPORATION   \n",
              "17772  S954U5F3LLS9  VANGUARD COMMUNICATIONS OF FALLS CHURCH, INC.   \n",
              "\n",
              "                 PIID            IDVPIID  \\\n",
              "0      75ACF121F80002         GS35F461CA   \n",
              "1      75ACF122F80053         GS00F010CA   \n",
              "2      75ACF122F80021         GS00F010CA   \n",
              "3      75ACF122F80037         GS00F010CA   \n",
              "4      75ACF122C00023                NaN   \n",
              "...               ...                ...   \n",
              "17768  75S20319F42001  HHSS283201700018I   \n",
              "17769  75S20318F42001  HHSS283201700019I   \n",
              "17770  75S20318F42001  HHSS283201700060I   \n",
              "17771  75S20322F80003      75FCMC18D0047   \n",
              "17772   HHSS28342001T  HHSS283201700063I   \n",
              "\n",
              "                                                  Agency  \\\n",
              "0               Administration for Children and Families   \n",
              "1               Administration for Children and Families   \n",
              "2               Administration for Children and Families   \n",
              "3               Administration for Children and Families   \n",
              "4               Administration for Children and Families   \n",
              "...                                                  ...   \n",
              "17768  Substance Abuse and Mental Health Services Adm...   \n",
              "17769  Substance Abuse and Mental Health Services Adm...   \n",
              "17770  Substance Abuse and Mental Health Services Adm...   \n",
              "17771  Substance Abuse and Mental Health Services Adm...   \n",
              "17772  Substance Abuse and Mental Health Services Adm...   \n",
              "\n",
              "                                           Contract Desc Set Aside  \\\n",
              "0      SERVICENOW SOFTWARE LICENSE SUBSCRIPTIONS FOR ...        8A   \n",
              "1      LOW INCOME HOME ENERGY ASSISTANCE PROGRAM  (LI...       NaN   \n",
              "2      STATE CAPACITY BUILDING CENTER TECHNICAL ASSIS...       NaN   \n",
              "3      THIS TASK ORDER IS INTENDED TO PROCURE A WIDE ...       NaN   \n",
              "4      COMMUNITY ECONOMIC DEVELOPMENT (CED) GRANT PRO...       8AN   \n",
              "...                                                  ...       ...   \n",
              "17768  SAMHSA DISASTER TECHNICAL ASSISTANCE CENTER (D...       NaN   \n",
              "17769  IGC::OT::IGF TECHNICAL SUPPORT FOR OPIOID TREA...       NaN   \n",
              "17770  IGF::OT::IGF MINORITY FELLOWSHIP PROGRAM COORD...       NaN   \n",
              "17771          SAMHSA STRATEGIC PLANNING FY 2023-FY 2026       NaN   \n",
              "17772  UNDERAGE DRINKING PREVENTION EDUCATION INITIAT...       NaN   \n",
              "\n",
              "                                    Principal Naics Code     Contract Pricing  \\\n",
              "0                541512-Computer Systems Design Services          Fixed Price   \n",
              "1      541611-Administrative Management and General M...          Fixed Price   \n",
              "2      541611-Administrative Management and General M...          Fixed Price   \n",
              "3      541611-Administrative Management and General M...   Time and Materials   \n",
              "4      541611-Administrative Management and General M...          Fixed Price   \n",
              "...                                                  ...                  ...   \n",
              "17768  541990-All Other Professional, Scientific, and...  Cost Plus Award Fee   \n",
              "17769  541990-All Other Professional, Scientific, and...  Cost Plus Award Fee   \n",
              "17770  541990-All Other Professional, Scientific, and...  Cost Plus Award Fee   \n",
              "17771  541990-All Other Professional, Scientific, and...  Cost Plus Fixed Fee   \n",
              "17772  541990-All Other Professional, Scientific, and...  Cost Plus Award Fee   \n",
              "\n",
              "                Contract Date    Contract Expiry Date  Obligated Amount  \\\n",
              "0      10/30/2020 12:00:00 AM  10/31/2025 12:00:00 AM            264562   \n",
              "1      09/30/2022 12:00:00 AM  09/29/2025 12:00:00 AM            871819   \n",
              "2      09/29/2022 12:00:00 AM  09/29/2025 12:00:00 AM          13214685   \n",
              "3      09/28/2022 12:00:00 AM  09/29/2025 12:00:00 AM           1239525   \n",
              "4      09/06/2022 12:00:00 AM  09/29/2025 12:00:00 AM            203480   \n",
              "...                       ...                     ...               ...   \n",
              "17768  08/19/2019 12:00:00 AM  08/29/2021 12:00:00 AM           1031029   \n",
              "17769  08/24/2018 12:00:00 AM  08/28/2023 12:00:00 AM            731483   \n",
              "17770  06/26/2018 12:00:00 AM  08/26/2023 12:00:00 AM            633545   \n",
              "17771  08/08/2022 12:00:00 AM  04/30/2023 12:00:00 AM            542003   \n",
              "17772  11/28/2017 12:00:00 AM  11/29/2022 12:00:00 AM           2487061   \n",
              "\n",
              "      POP state  \n",
              "0            MD  \n",
              "1            DC  \n",
              "2            VA  \n",
              "3            VA  \n",
              "4            DC  \n",
              "...         ...  \n",
              "17768        MD  \n",
              "17769        MD  \n",
              "17770        MD  \n",
              "17771        VA  \n",
              "17772        DC  \n",
              "\n",
              "[17773 rows x 13 columns]>"
            ]
          },
          "metadata": {},
          "execution_count": 104
        }
      ]
    },
    {
      "cell_type": "code",
      "source": [
        "df.shape"
      ],
      "metadata": {
        "colab": {
          "base_uri": "https://localhost:8080/"
        },
        "id": "IFXMNtphurAD",
        "outputId": "b44c1f04-933a-4b2b-d692-15253126d297"
      },
      "execution_count": null,
      "outputs": [
        {
          "output_type": "execute_result",
          "data": {
            "text/plain": [
              "(17773, 13)"
            ]
          },
          "metadata": {},
          "execution_count": 105
        }
      ]
    },
    {
      "cell_type": "code",
      "source": [
        "df.info"
      ],
      "metadata": {
        "colab": {
          "base_uri": "https://localhost:8080/"
        },
        "id": "fC3L-tmGweT7",
        "outputId": "5fa858c1-900c-40b8-8839-8c4a5129ce8c"
      },
      "execution_count": null,
      "outputs": [
        {
          "output_type": "execute_result",
          "data": {
            "text/plain": [
              "<bound method DataFrame.info of                 UEI                                   Company Name  \\\n",
              "0      F8G4FTQNUZT7                        BRAVIUM CONSULTING INC.   \n",
              "1      QHBLBNKKV4U3                       ICF INCORPORATED, L.L.C.   \n",
              "2      QHBLBNKKV4U3                       ICF INCORPORATED, L.L.C.   \n",
              "3      QHBLBNKKV4U3                       ICF INCORPORATED, L.L.C.   \n",
              "4      GPV8EN61NBN6                       INFO GAIN CONSULTING LLC   \n",
              "...             ...                                            ...   \n",
              "17768  HKS1BN6QXJ95                             IQ SOLUTIONS, INC.   \n",
              "17769  NACNDU85S2Q2                        JBS INTERNATIONAL, INC.   \n",
              "17770  K3RCJNRN5T46                      MAYATECH CORPORATION, THE   \n",
              "17771  DMHDNDCPWUD1                          THE MITRE CORPORATION   \n",
              "17772  S954U5F3LLS9  VANGUARD COMMUNICATIONS OF FALLS CHURCH, INC.   \n",
              "\n",
              "                 PIID            IDVPIID  \\\n",
              "0      75ACF121F80002         GS35F461CA   \n",
              "1      75ACF122F80053         GS00F010CA   \n",
              "2      75ACF122F80021         GS00F010CA   \n",
              "3      75ACF122F80037         GS00F010CA   \n",
              "4      75ACF122C00023                NaN   \n",
              "...               ...                ...   \n",
              "17768  75S20319F42001  HHSS283201700018I   \n",
              "17769  75S20318F42001  HHSS283201700019I   \n",
              "17770  75S20318F42001  HHSS283201700060I   \n",
              "17771  75S20322F80003      75FCMC18D0047   \n",
              "17772   HHSS28342001T  HHSS283201700063I   \n",
              "\n",
              "                                                  Agency  \\\n",
              "0               Administration for Children and Families   \n",
              "1               Administration for Children and Families   \n",
              "2               Administration for Children and Families   \n",
              "3               Administration for Children and Families   \n",
              "4               Administration for Children and Families   \n",
              "...                                                  ...   \n",
              "17768  Substance Abuse and Mental Health Services Adm...   \n",
              "17769  Substance Abuse and Mental Health Services Adm...   \n",
              "17770  Substance Abuse and Mental Health Services Adm...   \n",
              "17771  Substance Abuse and Mental Health Services Adm...   \n",
              "17772  Substance Abuse and Mental Health Services Adm...   \n",
              "\n",
              "                                           Contract Desc Set Aside  \\\n",
              "0      SERVICENOW SOFTWARE LICENSE SUBSCRIPTIONS FOR ...        8A   \n",
              "1      LOW INCOME HOME ENERGY ASSISTANCE PROGRAM  (LI...       NaN   \n",
              "2      STATE CAPACITY BUILDING CENTER TECHNICAL ASSIS...       NaN   \n",
              "3      THIS TASK ORDER IS INTENDED TO PROCURE A WIDE ...       NaN   \n",
              "4      COMMUNITY ECONOMIC DEVELOPMENT (CED) GRANT PRO...       8AN   \n",
              "...                                                  ...       ...   \n",
              "17768  SAMHSA DISASTER TECHNICAL ASSISTANCE CENTER (D...       NaN   \n",
              "17769  IGC::OT::IGF TECHNICAL SUPPORT FOR OPIOID TREA...       NaN   \n",
              "17770  IGF::OT::IGF MINORITY FELLOWSHIP PROGRAM COORD...       NaN   \n",
              "17771          SAMHSA STRATEGIC PLANNING FY 2023-FY 2026       NaN   \n",
              "17772  UNDERAGE DRINKING PREVENTION EDUCATION INITIAT...       NaN   \n",
              "\n",
              "                                    Principal Naics Code     Contract Pricing  \\\n",
              "0                541512-Computer Systems Design Services          Fixed Price   \n",
              "1      541611-Administrative Management and General M...          Fixed Price   \n",
              "2      541611-Administrative Management and General M...          Fixed Price   \n",
              "3      541611-Administrative Management and General M...   Time and Materials   \n",
              "4      541611-Administrative Management and General M...          Fixed Price   \n",
              "...                                                  ...                  ...   \n",
              "17768  541990-All Other Professional, Scientific, and...  Cost Plus Award Fee   \n",
              "17769  541990-All Other Professional, Scientific, and...  Cost Plus Award Fee   \n",
              "17770  541990-All Other Professional, Scientific, and...  Cost Plus Award Fee   \n",
              "17771  541990-All Other Professional, Scientific, and...  Cost Plus Fixed Fee   \n",
              "17772  541990-All Other Professional, Scientific, and...  Cost Plus Award Fee   \n",
              "\n",
              "                Contract Date    Contract Expiry Date  Obligated Amount  \\\n",
              "0      10/30/2020 12:00:00 AM  10/31/2025 12:00:00 AM            264562   \n",
              "1      09/30/2022 12:00:00 AM  09/29/2025 12:00:00 AM            871819   \n",
              "2      09/29/2022 12:00:00 AM  09/29/2025 12:00:00 AM          13214685   \n",
              "3      09/28/2022 12:00:00 AM  09/29/2025 12:00:00 AM           1239525   \n",
              "4      09/06/2022 12:00:00 AM  09/29/2025 12:00:00 AM            203480   \n",
              "...                       ...                     ...               ...   \n",
              "17768  08/19/2019 12:00:00 AM  08/29/2021 12:00:00 AM           1031029   \n",
              "17769  08/24/2018 12:00:00 AM  08/28/2023 12:00:00 AM            731483   \n",
              "17770  06/26/2018 12:00:00 AM  08/26/2023 12:00:00 AM            633545   \n",
              "17771  08/08/2022 12:00:00 AM  04/30/2023 12:00:00 AM            542003   \n",
              "17772  11/28/2017 12:00:00 AM  11/29/2022 12:00:00 AM           2487061   \n",
              "\n",
              "      POP state  \n",
              "0            MD  \n",
              "1            DC  \n",
              "2            VA  \n",
              "3            VA  \n",
              "4            DC  \n",
              "...         ...  \n",
              "17768        MD  \n",
              "17769        MD  \n",
              "17770        MD  \n",
              "17771        VA  \n",
              "17772        DC  \n",
              "\n",
              "[17773 rows x 13 columns]>"
            ]
          },
          "metadata": {},
          "execution_count": 106
        }
      ]
    },
    {
      "cell_type": "code",
      "source": [
        "df.isnull().sum()"
      ],
      "metadata": {
        "colab": {
          "base_uri": "https://localhost:8080/"
        },
        "id": "vjzUjp9yxfbn",
        "outputId": "0cd7a003-8a25-4599-ffe6-50c7aa12dfed"
      },
      "execution_count": null,
      "outputs": [
        {
          "output_type": "execute_result",
          "data": {
            "text/plain": [
              "UEI                        0\n",
              "Company Name               0\n",
              "PIID                       0\n",
              "IDVPIID                 6013\n",
              "Agency                     0\n",
              "Contract Desc              1\n",
              "Set Aside               9961\n",
              "Principal Naics Code       0\n",
              "Contract Pricing           0\n",
              "Contract Date              0\n",
              "Contract Expiry Date       0\n",
              "Obligated Amount           0\n",
              "POP state                214\n",
              "dtype: int64"
            ]
          },
          "metadata": {},
          "execution_count": 107
        }
      ]
    },
    {
      "cell_type": "code",
      "source": [
        "df.isnull().mean()*100"
      ],
      "metadata": {
        "colab": {
          "base_uri": "https://localhost:8080/"
        },
        "id": "I45SIoN7xog3",
        "outputId": "d451b16a-6851-4c02-fd0d-8696e25e345c"
      },
      "execution_count": null,
      "outputs": [
        {
          "output_type": "execute_result",
          "data": {
            "text/plain": [
              "UEI                      0.000000\n",
              "Company Name             0.000000\n",
              "PIID                     0.000000\n",
              "IDVPIID                 33.832217\n",
              "Agency                   0.000000\n",
              "Contract Desc            0.005627\n",
              "Set Aside               56.045687\n",
              "Principal Naics Code     0.000000\n",
              "Contract Pricing         0.000000\n",
              "Contract Date            0.000000\n",
              "Contract Expiry Date     0.000000\n",
              "Obligated Amount         0.000000\n",
              "POP state                1.204074\n",
              "dtype: float64"
            ]
          },
          "metadata": {},
          "execution_count": 108
        }
      ]
    },
    {
      "cell_type": "code",
      "source": [
        "# Handle missing values by filling with the most frequent value in each column\n",
        "columns_with_missing_values = ['IDVPIID', 'Contract Desc', 'Set Aside', 'POP state']\n",
        "\n",
        "for column in columns_with_missing_values:\n",
        "    most_frequent_value = df[column].mode()[0]\n",
        "    df[column].fillna(most_frequent_value, inplace=True)\n"
      ],
      "metadata": {
        "id": "89lwu49syOC1"
      },
      "execution_count": null,
      "outputs": []
    },
    {
      "cell_type": "code",
      "source": [
        "df.isnull().sum()"
      ],
      "metadata": {
        "colab": {
          "base_uri": "https://localhost:8080/"
        },
        "id": "SpCUg1jXyPWd",
        "outputId": "db3d254a-6dd0-4702-ef93-90cdf078b8db"
      },
      "execution_count": null,
      "outputs": [
        {
          "output_type": "execute_result",
          "data": {
            "text/plain": [
              "UEI                     0\n",
              "Company Name            0\n",
              "PIID                    0\n",
              "IDVPIID                 0\n",
              "Agency                  0\n",
              "Contract Desc           0\n",
              "Set Aside               0\n",
              "Principal Naics Code    0\n",
              "Contract Pricing        0\n",
              "Contract Date           0\n",
              "Contract Expiry Date    0\n",
              "Obligated Amount        0\n",
              "POP state               0\n",
              "dtype: int64"
            ]
          },
          "metadata": {},
          "execution_count": 110
        }
      ]
    },
    {
      "cell_type": "code",
      "source": [
        "df.duplicated().sum()"
      ],
      "metadata": {
        "colab": {
          "base_uri": "https://localhost:8080/"
        },
        "id": "FMofnrScyfk7",
        "outputId": "5b763e22-72f4-4716-83d8-3dd83728bd5a"
      },
      "execution_count": null,
      "outputs": [
        {
          "output_type": "execute_result",
          "data": {
            "text/plain": [
              "122"
            ]
          },
          "metadata": {},
          "execution_count": 111
        }
      ]
    },
    {
      "cell_type": "code",
      "source": [
        "#check for duplicates is 'UEI'\n",
        "duplicates_in_uei = df[df.duplicated(subset='UEI', keep=False)]\n",
        "\n",
        "\n",
        "print(duplicates_in_uei)"
      ],
      "metadata": {
        "colab": {
          "base_uri": "https://localhost:8080/"
        },
        "id": "I6JJMui6zeWO",
        "outputId": "13e20d5c-ceef-406c-e74d-2cf130f53e36"
      },
      "execution_count": null,
      "outputs": [
        {
          "metadata": {
            "tags": null
          },
          "name": "stdout",
          "output_type": "stream",
          "text": [
            "        UEI  Company Name   PIID  IDVPIID  Agency  Contract Desc  Set Aside  \\\n",
            "1      3125          2082    373     1801       0           8091          7   \n",
            "2      3125          2082    357     1801       0          13295          7   \n",
            "3      3125          2082    365     1801       0          15006          7   \n",
            "4      1173          2160    345     2979       0           2938          1   \n",
            "5      3846          4457    334       70       0            627          7   \n",
            "...     ...           ...    ...      ...     ...            ...        ...   \n",
            "17767  2981           576  12052     2918      12           7004          8   \n",
            "17768  1392          2268  12036     3106      12          12499          7   \n",
            "17769  2687          2329  12031     3107      12           6202          7   \n",
            "17770  1815          2680  12031     3112      12           6761          7   \n",
            "17771   405          4194  12050      680      12          12500          7   \n",
            "\n",
            "       Principal Naics Code  Contract Pricing  Contract Date  \\\n",
            "1                       241                 5           1370   \n",
            "2                       241                 5           1363   \n",
            "3                       241                12           1355   \n",
            "4                       241                 5           1190   \n",
            "5                       241                12           1346   \n",
            "...                     ...               ...            ...   \n",
            "17767                   238                 2           1141   \n",
            "17768                   261                 2           1077   \n",
            "17769                   261                 2           1106   \n",
            "17770                   261                 2            782   \n",
            "17771                   261                 3           1017   \n",
            "\n",
            "       Contract Expiry Date  Obligated Amount  POP state  \n",
            "1                      1392          871819.0          7  \n",
            "2                      1392        13214685.0         48  \n",
            "3                      1392         1239525.0         48  \n",
            "4                      1392          203480.0          7  \n",
            "5                      1392         1643484.0          7  \n",
            "...                     ...               ...        ...  \n",
            "17767                  1167         1960758.0         21  \n",
            "17768                  1158         1031029.0         21  \n",
            "17769                  1154          731483.0         21  \n",
            "17770                  1141          633545.0         21  \n",
            "17771                   557          542003.0         48  \n",
            "\n",
            "[15189 rows x 13 columns]\n"
          ]
        }
      ]
    },
    {
      "cell_type": "code",
      "source": [
        "# identify duplicated rows\n",
        "duplicates = df[df.duplicated(keep=False)]\n",
        "\n",
        "# Fill null values in the duplicated rows with the corresponding non-null values\n",
        "df_filled_duplicates = duplicates.fillna(method='ffill')\n",
        "\n",
        "# Update the original DataFrame with the filled duplicate rows\n",
        "df.update(df_filled_duplicates)\n"
      ],
      "metadata": {
        "id": "Kc62CWHk0yle"
      },
      "execution_count": null,
      "outputs": []
    },
    {
      "cell_type": "code",
      "source": [],
      "metadata": {
        "id": "6sLefHa81GOt"
      },
      "execution_count": null,
      "outputs": []
    },
    {
      "cell_type": "code",
      "source": [
        "# Encoding categorical variables using Label Encoding\n",
        "label_encoders = {}\n",
        "for column in df.select_dtypes(include=['object']).columns:\n",
        "    label_encoders[column] = LabelEncoder()\n",
        "    df[column] = label_encoders[column].fit_transform(df[column])\n",
        "\n",
        "# Print the encoding data for each column\n",
        "for column, encoder in label_encoders.items():\n",
        "    print(f\"Label Encoding for {column}: {dict(zip(encoder.classes_, encoder.transform(encoder.classes_)))}\")\n",
        "\n",
        "# Print the updated DataFrame with encoded categorical variables\n",
        "print(df)\n"
      ],
      "metadata": {
        "id": "e2ru5m2t1iVP"
      },
      "execution_count": null,
      "outputs": []
    },
    {
      "cell_type": "code",
      "source": [
        "# Perform one-hot encoding on categorical columns\n",
        "df_encoded = pd.get_dummies(df, columns=df.select_dtypes(include=['object']).columns)\n",
        "\n",
        "# Print the updated DataFrame with one-hot encoded categorical variables\n",
        "print(df_encoded)"
      ],
      "metadata": {
        "colab": {
          "base_uri": "https://localhost:8080/"
        },
        "id": "y16cIqwW17XF",
        "outputId": "2dde463d-9c02-4998-d4cb-1eb3992f6a17"
      },
      "execution_count": null,
      "outputs": [
        {
          "output_type": "stream",
          "name": "stdout",
          "text": [
            "        UEI  Company Name   PIID  IDVPIID  Agency  Contract Desc  Set Aside  \\\n",
            "0       798           720    322     2414       0          12927          0   \n",
            "1      3125          2082    373     1801       0           8091          7   \n",
            "2      3125          2082    357     1801       0          13295          7   \n",
            "3      3125          2082    365     1801       0          15006          7   \n",
            "4      1173          2160    345     2979       0           2938          1   \n",
            "...     ...           ...    ...      ...     ...            ...        ...   \n",
            "17768  1392          2268  12036     3106      12          12499          7   \n",
            "17769  2687          2329  12031     3107      12           6202          7   \n",
            "17770  1815          2680  12031     3112      12           6761          7   \n",
            "17771   405          4194  12050      680      12          12500          7   \n",
            "17772  3353          4478  12548     3113      12          15569          7   \n",
            "\n",
            "       Principal Naics Code  Contract Pricing  Contract Date  \\\n",
            "0                       238                 5           1443   \n",
            "1                       241                 5           1370   \n",
            "2                       241                 5           1363   \n",
            "3                       241                12           1355   \n",
            "4                       241                 5           1190   \n",
            "...                     ...               ...            ...   \n",
            "17768                   261                 2           1077   \n",
            "17769                   261                 2           1106   \n",
            "17770                   261                 2            782   \n",
            "17771                   261                 3           1017   \n",
            "17772                   261                 2           1549   \n",
            "\n",
            "       Contract Expiry Date  Obligated Amount  POP state  \n",
            "0                      1504          264562.0         21  \n",
            "1                      1392          871819.0          7  \n",
            "2                      1392        13214685.0         48  \n",
            "3                      1392         1239525.0         48  \n",
            "4                      1392          203480.0          7  \n",
            "...                     ...               ...        ...  \n",
            "17768                  1158         1031029.0         21  \n",
            "17769                  1154          731483.0         21  \n",
            "17770                  1141          633545.0         21  \n",
            "17771                   557          542003.0         48  \n",
            "17772                  1621         2487061.0          7  \n",
            "\n",
            "[17773 rows x 13 columns]\n"
          ]
        }
      ]
    },
    {
      "cell_type": "code",
      "source": [
        "df.columns"
      ],
      "metadata": {
        "colab": {
          "base_uri": "https://localhost:8080/"
        },
        "id": "KDx1_D412m82",
        "outputId": "69a4e88c-2487-40a9-f7a8-521c5507454d"
      },
      "execution_count": null,
      "outputs": [
        {
          "output_type": "execute_result",
          "data": {
            "text/plain": [
              "Index(['UEI', 'Company Name', 'PIID', 'IDVPIID', 'Agency', 'Contract Desc',\n",
              "       'Set Aside', 'Principal Naics Code', 'Contract Pricing',\n",
              "       'Contract Date', 'Contract Expiry Date', 'Obligated Amount',\n",
              "       'POP state'],\n",
              "      dtype='object')"
            ]
          },
          "metadata": {},
          "execution_count": 116
        }
      ]
    },
    {
      "cell_type": "code",
      "source": [
        "from sklearn.preprocessing import StandardScaler\n",
        "\n",
        "scaler = StandardScaler()\n",
        "X_train_scaled = scaler.fit_transform(X_train)\n",
        "X_test_scaled = scaler.transform(X_test)\n",
        "\n"
      ],
      "metadata": {
        "id": "wlWziP7l70lz"
      },
      "execution_count": null,
      "outputs": []
    },
    {
      "cell_type": "markdown",
      "source": [
        "#Feature Scaling"
      ],
      "metadata": {
        "id": "F9EeIS3S8YDg"
      }
    },
    {
      "cell_type": "code",
      "source": [
        "from sklearn.preprocessing import StandardScaler\n",
        "\n",
        "\n",
        "X = df_encoded.drop(columns=['UEI', 'Company Name', 'PIID', 'IDVPIID', 'Contract Desc', 'Contract Date', 'Contract Expiry Date'])\n",
        "y = df_encoded['Obligated Amount']\n",
        "scaler = StandardScaler()\n",
        "X_scaled = scaler.fit_transform(X)\n",
        "\n",
        "print(\"Scaled Features (X_scaled):\")\n",
        "print(X_scaled)\n"
      ],
      "metadata": {
        "colab": {
          "base_uri": "https://localhost:8080/"
        },
        "id": "Gkrb8unb2jx-",
        "outputId": "aa7ec38d-7071-441f-ee10-1b798b2b9f98"
      },
      "execution_count": null,
      "outputs": [
        {
          "output_type": "stream",
          "name": "stdout",
          "text": [
            "Scaled Features (X_scaled):\n",
            "[[-3.00846095 -4.70497039  0.20269802 -0.26733371 -0.09085964 -0.20317275]\n",
            " [-3.00846095  0.15754889  0.24242036 -0.26733371 -0.04337779 -1.23006384]\n",
            " [-3.00846095  0.15754889  0.24242036 -0.26733371  0.92171947  1.77726009]\n",
            " ...\n",
            " [ 3.22273538  0.15754889  0.507236   -1.44291856 -0.0620086  -0.20317275]\n",
            " [ 3.22273538  0.15754889  0.507236   -1.05105695 -0.06916633  1.77726009]\n",
            " [ 3.22273538  0.15754889  0.507236   -1.44291856  0.0829191  -1.23006384]]\n"
          ]
        }
      ]
    },
    {
      "cell_type": "code",
      "source": [
        "# Split the data into training and testing sets\n",
        "X_train, X_test, y_train, y_test = train_test_split(X, y, test_size=0.2, random_state=42)"
      ],
      "metadata": {
        "id": "M_e2iMcN3MB0"
      },
      "execution_count": null,
      "outputs": []
    },
    {
      "cell_type": "code",
      "source": [
        "# Splitting Data into Features and Target Variable\n",
        "X = df.drop(columns=['UEI', 'Contract Expiry Date', 'POP state'])\n",
        "y = df['POP state']\n"
      ],
      "metadata": {
        "id": "OPlSsjuNDSAv"
      },
      "execution_count": null,
      "outputs": []
    },
    {
      "cell_type": "code",
      "source": [
        "# Splitting Data into Training and Testing Sets\n",
        "X_train, X_test, y_train, y_test = train_test_split(X, y, test_size=0.2, random_state=42)\n",
        "\n"
      ],
      "metadata": {
        "id": "QZSjIX9GC5wc"
      },
      "execution_count": null,
      "outputs": []
    },
    {
      "cell_type": "code",
      "source": [
        "# Build and evaluate the ensemble models\n",
        "models = {\n",
        "    \"Random Forest\": RandomForestClassifier(random_state=42),\n",
        "    \"AdaBoost\": AdaBoostClassifier(random_state=42),\n",
        "    \"Decision Tree\": DecisionTreeClassifier(random_state=42),\n",
        "    \"SVM\": SVC(random_state=42),\n",
        "    \"XGBoost\": XGBClassifier(random_state=42)\n",
        "}"
      ],
      "metadata": {
        "id": "RvzUKCPvEUY8"
      },
      "execution_count": null,
      "outputs": []
    },
    {
      "cell_type": "code",
      "source": [
        "for name, model in models.items():\n",
        "    model.fit(X_train, y_train)\n",
        "    y_pred = model.predict(X_test)\n",
        "    accuracy = accuracy_score(y_test, y_pred)\n",
        "    print(f\"{name} Accuracy: {accuracy:.2f}\")"
      ],
      "metadata": {
        "colab": {
          "base_uri": "https://localhost:8080/"
        },
        "id": "Jy_RzHDVEVo7",
        "outputId": "ca2bbbee-99d0-4407-cfde-2024f132e17b"
      },
      "execution_count": null,
      "outputs": [
        {
          "output_type": "stream",
          "name": "stdout",
          "text": [
            "Random Forest Accuracy: 0.66\n",
            "AdaBoost Accuracy: 0.40\n",
            "Decision Tree Accuracy: 0.55\n",
            "SVM Accuracy: 0.37\n",
            "XGBoost Accuracy: 0.65\n"
          ]
        }
      ]
    }
  ]
}