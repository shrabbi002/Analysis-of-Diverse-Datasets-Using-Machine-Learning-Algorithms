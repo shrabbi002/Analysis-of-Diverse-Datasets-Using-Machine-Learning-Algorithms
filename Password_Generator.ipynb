{
  "nbformat": 4,
  "nbformat_minor": 0,
  "metadata": {
    "colab": {
      "provenance": []
    },
    "kernelspec": {
      "name": "python3",
      "display_name": "Python 3"
    },
    "language_info": {
      "name": "python"
    }
  },
  "cells": [
    {
      "cell_type": "code",
      "execution_count": 1,
      "metadata": {
        "id": "78gJeiSi9RY7"
      },
      "outputs": [],
      "source": [
        "import numpy as np\n",
        "import string"
      ]
    },
    {
      "cell_type": "code",
      "source": [
        "class Password():\n",
        "\n",
        "  def __init__(self, user_name, length=12):\n",
        "    self.length = length\n",
        "    self.password = ''\n",
        "    self.user_name = user_name\n",
        "    self.uppercase_letters = list(string.ascii_uppercase)\n",
        "    self.lowercase_letters = list(string.ascii_lowercase)\n",
        "    self.digits = list(string.digits)\n",
        "    self.special_characters = list(\"!@#$%^&*()_+-=[]{}|;:,.<>?\")\n",
        "\n",
        "  def create_password(self, password):\n",
        "    validation_messages = []\n",
        "    if len(password) < self.length :\n",
        "      validation_messages.append(True)\n",
        "      print(f\"You Have to provide at least {self.length} character in your password\")\n",
        "\n",
        "    else : validation_messages.append(False)\n",
        "\n",
        "    sub_string = self.user_name.lower()\n",
        "    # Check if sub_string exists in the password (case-insensitive)\n",
        "    if sub_string in password.lower():\n",
        "      validation_messages.append(True)\n",
        "      print(f\"The password contains a substring of your name\")\n",
        "\n",
        "    else : validation_messages.append(False)\n",
        "\n",
        "    if not any(char in self.lowercase_letters for char in password):\n",
        "      validation_messages.append(True)\n",
        "      print(f\"The password does not contain a (a-z) character\")\n",
        "\n",
        "    else : validation_messages.append(False)\n",
        "\n",
        "    if not any(char in self.uppercase_letters for char in password):\n",
        "      validation_messages.append(True)\n",
        "      print(f\"The password does not contain a (A-Z) character\")\n",
        "\n",
        "    else : validation_messages.append(False)\n",
        "\n",
        "    if not any(char in self.digits for char in password):\n",
        "      validation_messages.append(True)\n",
        "      print(f\"The password does not contain a (0-9) character\")\n",
        "\n",
        "    else : validation_messages.append(False)\n",
        "\n",
        "    if not any(char in self.special_characters for char in password):\n",
        "      validation_messages.append(True)\n",
        "      print(f\"The password does not contain any special character\")\n",
        "\n",
        "    else : validation_messages.append(False)\n",
        "\n",
        "\n",
        "    if np.all(validation_messages):\n",
        "      self.create_password(input(\"Enter your password again : \"))\n",
        "\n",
        "    else :\n",
        "      self.password = password\n",
        "      print('Password is set')\n",
        "\n",
        "\n",
        "  def generate_password(self, length):\n",
        "    pass"
      ],
      "metadata": {
        "id": "QOV8fuXT_FC1"
      },
      "execution_count": 2,
      "outputs": []
    },
    {
      "cell_type": "code",
      "source": [
        "print(list(string.ascii_uppercase))"
      ],
      "metadata": {
        "id": "QT3lidklcUD7",
        "outputId": "bfc02e23-e582-43e9-e91e-78929dc4be20",
        "colab": {
          "base_uri": "https://localhost:8080/"
        }
      },
      "execution_count": 3,
      "outputs": [
        {
          "output_type": "stream",
          "name": "stdout",
          "text": [
            "['A', 'B', 'C', 'D', 'E', 'F', 'G', 'H', 'I', 'J', 'K', 'L', 'M', 'N', 'O', 'P', 'Q', 'R', 'S', 'T', 'U', 'V', 'W', 'X', 'Y', 'Z']\n"
          ]
        }
      ]
    },
    {
      "cell_type": "code",
      "source": [
        "p1 = Password('rabbi&utsho')"
      ],
      "metadata": {
        "id": "ivw_uYBjcVRh"
      },
      "execution_count": 6,
      "outputs": []
    },
    {
      "cell_type": "code",
      "source": [
        "p1.create_password(input(\"Enter your password : \"))"
      ],
      "metadata": {
        "colab": {
          "base_uri": "https://localhost:8080/"
        },
        "id": "Z2t5cp2kZyg8",
        "outputId": "8a453711-2e08-46c7-e662-5d4f273a860f"
      },
      "execution_count": 7,
      "outputs": [
        {
          "output_type": "stream",
          "name": "stdout",
          "text": [
            "Enter your password : hehe211\n",
            "You Have to provide at least 12 character in your password\n",
            "The password does not contain a (A-Z) character\n",
            "The password does not contain any special character\n",
            "Password is set\n"
          ]
        }
      ]
    },
    {
      "cell_type": "code",
      "source": [
        "#p1.generate_password(int(\"Enter how many variant of password want to generate : \"))"
      ],
      "metadata": {
        "id": "oMoB7cNmm-QU"
      },
      "execution_count": null,
      "outputs": []
    },
    {
      "cell_type": "code",
      "source": [],
      "metadata": {
        "id": "p3E0sdEvtjSl"
      },
      "execution_count": null,
      "outputs": []
    }
  ]
}