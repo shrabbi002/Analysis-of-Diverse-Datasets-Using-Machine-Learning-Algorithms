{
  "cells": [
    {
      "cell_type": "code",
      "execution_count": null,
      "metadata": {
        "id": "z5qsn-hxaW9L"
      },
      "outputs": [],
      "source": [
        "relationship_advice = {\n",
        "    \"1. How can I improve communication with my partner?\": \"Try setting aside dedicated time for open and honest conversations each week.\",\n",
        "    \"2. What are some ways to spice up a long-term relationship?\": \"Surprise your partner with spontaneous date nights or explore new hobbies together.\",\n",
        "    \"3. How do I handle conflicts in a relationship?\": \"Approach conflicts calmly, listen to your partner's perspective, and work towards a compromise.\",\n",
        "    \"4. How can I maintain trust in my relationship?\": \"Be transparent, keep your promises, and communicate openly to foster trust.\",\n",
        "    \"5. What are the signs of a healthy relationship?\": \"Mutual respect, effective communication, trust, and support are key signs of a healthy relationship.\",\n",
        "    \"6. How do I know if I'm ready for a serious relationship?\": \"Evaluate your emotional readiness, communication skills, and ability to commit before pursuing a serious relationship.\",\n",
        "    \"7. What should I do if my partner and I have different long-term goals?\": \"Have an honest conversation to understand each other's goals and see if a compromise or middle ground is possible.\",\n",
        "    \"8. How do I rebuild a relationship after a breach of trust?\": \"Acknowledge the issue, apologize sincerely, and work together to rebuild trust by demonstrating consistent trustworthy behavior.\",\n",
        "    \"9. How can I balance my relationship with other aspects of my life?\": \"Set boundaries, prioritize your time, and communicate your needs and expectations with your partner.\",\n",
        "    \"10. How do I know if I'm in love?\": \"Love often involves strong emotions, deep connection, and a desire for the well-being and happiness of the other person.\",\n",
        "    \"11. How can I show appreciation to my partner in small gestures?\": \"Surprise them with their favorite treat, leave a sweet note, or plan a thoughtful date.\",\n",
        "    \"12. How do I handle jealousy in a relationship?\": \"Communicate openly about your feelings of jealousy and work together to build trust and address insecurities.\",\n",
        "    \"13. What are some ways to keep the romance alive in a relationship?\": \"Plan regular date nights, surprise each other, and express your love and appreciation regularly.\",\n",
        "    \"14. How can I support my partner during a difficult time?\": \"Be there to listen, offer comfort, and show empathy, while respecting their need for space if necessary.\",\n",
        "    \"15. How do I approach introducing my partner to my family?\": \"Choose a comfortable and appropriate setting, prepare your partner for any family dynamics, and communicate openly about expectations.\",\n",
        "    \"16. What are some effective ways to manage a long-distance relationship?\": \"Schedule regular video calls, plan visits, and maintain trust and open communication to stay connected.\",\n",
        "    \"17. How can I encourage my partner to express their emotions and thoughts openly?\": \"Create a safe and non-judgmental environment where your partner feels comfortable sharing their feelings and thoughts.\",\n",
        "    \"18. How do I handle differing opinions or beliefs in a relationship?\": \"Respect each other's opinions, have open discussions, and find common ground or agree to disagree respectfully.\",\n",
        "    \"19. How can I maintain my individuality in a relationship?\": \"Pursue your interests, spend time with friends, and communicate your need for personal space and time.\",\n",
        "    \"20. How do I keep the spark alive in a long-term relationship?\": \"Continuously work on your relationship, surprise each other, and keep trying new activities together.\",\n",
        "    \"21. How can I rebuild trust after my partner caught me lying?\": \"A sincere apology and consistent, honest behavior can help rebuild trust over time.\",\n",
        "    \"22. What are some creative ways to keep the romance alive in a relationship?\": \"Plan a surprise date, write a love letter, or try a new hobby together to keep the romance fresh.\",\n",
        "    \"23. How do I navigate cultural differences in a relationship?\": \"Respect and understanding are crucial. Communicate openly, learn about each other's cultures, and find common ground.\",\n",
        "    \"24. What should I do if my partner and I have different love languages?\": \"Learn each other's love languages and make an effort to show love in ways that resonate with your partner.\",\n",
        "    \"25. How can we manage our finances as a couple effectively?\": \"Set a budget together, communicate openly about financial goals, and agree on a plan for joint expenses.\",\n",
        "    \"26. How can we keep intimacy and passion alive in a long-term relationship?\": \"Communicate about your desires, experiment with new experiences, and prioritize quality time together.\",\n",
        "    \"27. What should I do if my partner and I have different levels of affection?\": \"Communicate your needs and find a compromise that ensures both partners feel comfortable and loved.\",\n",
        "    \"28. How can I support my partner through their career changes or challenges?\": \"Offer encouragement, listen to their concerns, and help them brainstorm solutions and strategies.\",\n",
        "    \"29. How can I handle a situation where my partner's family doesn't approve of our relationship?\": \"Communicate openly with your partner, set boundaries, and focus on nurturing your relationship while maintaining respect.\",\n",
        "    \"30. How can I manage time for my relationship amidst a busy work schedule?\": \"Schedule dedicated time for your relationship, communicate your needs to your partner, and prioritize quality over quantity.\",\n",
        "    \"31. How can we avoid drifting apart as a couple over time?\": \"Regularly check in on each other, plan shared activities, and continue to learn and grow together.\",\n",
        "    \"32. How can I support my partner through grief or loss?\": \"Offer comfort, be patient, and encourage them to seek professional help if needed while showing understanding and love.\",\n",
        "    \"33. How do I handle disagreements about parenting styles?\": \"Have open discussions about parenting approaches, seek compromise, and consider consulting a parenting expert.\",\n",
        "    \"34. How can we manage our different levels of ambition in the relationship?\": \"Communicate your goals, find a balance between your ambitions, and support each other's dreams.\",\n",
        "    \"35. What should I do if my partner and I have different expectations about marriage or commitment?\": \"Have a candid conversation about your expectations, reach a mutual understanding, and decide on a shared path.\",\n",
        "    \"36. How do I navigate a relationship where my partner has a close friendship with an ex?\": \"Communicate your feelings openly, set boundaries, and build trust through open dialogue and reassurance.\",\n",
        "    \"37. How can I address a lack of emotional connection in my relationship?\": \"Communicate your feelings, spend quality time together, and seek activities that deepen emotional intimacy.\",\n",
        "    \"38. How do I handle insecurity or jealousy arising from my partner's past relationships?\": \"Communicate your insecurities, work on building trust, and remind yourself of your partner's love and commitment.\",\n",
        "    \"39. How can I ensure I actively listen and pay attention to her thoughts and feelings each day?\": \"Focus on what she's saying, ask follow-up questions, and show empathy and understanding to truly engage with her.\",\n",
        "    \"40. What are some small gestures I can do daily to show her that I appreciate and care for her?\": \"Leave a sweet note, send a thoughtful text, or surprise her with a small gift to brighten her day.\",\n",
        "    \"41. How can I support her in achieving her daily goals and ambitions?\": \"Encourage her, offer help or advice, and celebrate her successes and milestones, no matter how big or small.\",\n",
        "    \"42. How can I make sure she takes time for self-care and relaxation daily?\": \"Encourage her to take breaks, suggest relaxation activities, and create a soothing atmosphere for her to unwind.\",\n",
        "    \"43. What can I do to ensure our daily routines accommodate her preferences and comfort?\": \"Discuss schedules and habits, consider her needs, and find compromises that work for both of you.\",\n",
        "    \"44. How can I consistently express my love and affection for her throughout the day?\": \"Offer hugs, kisses, and verbal affirmations of love and admiration, reminding her how special she is to you.\",\n",
        "    \"45. How can I ensure our communication remains open, honest, and respectful daily?\": \"Foster an environment where she feels safe to share, avoid judgment, and listen attentively to her thoughts and feelings.\",\n",
        "    \"46. What can I do to lighten her load and assist with her responsibilities or tasks daily?\": \"Offer to help with chores, errands, or work-related tasks to ease her stress and free up her time.\",\n",
        "    \"47. How can I make sure she feels heard and understood in our daily conversations?\": \"Practice active listening, validate her feelings, and avoid interrupting or dismissing her thoughts.\",\n",
        "    \"48. What gestures can I make daily to boost her confidence and self-esteem?\": \"Compliment her, remind her of her strengths, and encourage her pursuits to build her confidence.\",\n",
        "    \"49. How can I make our meals and food choices align with her preferences and dietary needs daily?\": \"Discuss meal plans, consider her dietary preferences, and involve her in meal preparations.\",\n",
        "    \"50. What can I do to show my support for her interests, hobbies, or creative pursuits daily?\": \"Show genuine interest, attend her events or performances, and celebrate her achievements in her chosen pursuits.\",\n",
        "    \"51. How can I ensure we have quality time together daily amidst our busy schedules?\": \"Prioritize and schedule time for each other, whether it's a meal, a walk, or simply a heart-to-heart conversation.\",\n",
        "    \"52. How can I remind her how beautiful and loved she is daily?\": \"Compliment her appearance, leave love notes, and plan surprise dates or outings to make her feel cherished.\",\n",
        "    \"53. How can I be attuned to her emotional needs and provide comfort or reassurance daily?\": \"Ask how she's feeling, offer a comforting embrace, and validate her emotions to provide the support she needs.\",\n",
        "    \"54. How can I ensure she stays physically healthy and active daily?\": \"Encourage physical activities, suggest workouts or walks together, and prepare healthy meals to promote overall well-being.\",\n",
        "    \"55. How can I ensure she has opportunities for personal growth and learning daily?\": \"Encourage reading, learning, and self-improvement, and support her in pursuing new knowledge or skills.\",\n",
        "    \"56. What gestures can I make daily to strengthen our emotional connection and intimacy?\": \"Prioritize cuddling, share intimate conversations, and show affection to deepen your emotional bond.\",\n",
        "    \"57. How can I be attentive to her needs and provide reassurance or encouragement daily?\": \"Ask how her day was, offer words of encouragement, and reassure her of your love and commitment.\",\n",
        "    \"58. What can I do daily to create an atmosphere of trust, safety, and security in our relationship?\": \"Be reliable and consistent, keep your promises, and communicate openly and honestly to build trust and a sense of security.\",\n",
        "    \"59. How can I ensure that the proposal is personal and meaningful to her?\": \"Consider her preferences, hobbies, and cherished memories to tailor the proposal to something she will deeply appreciate.\",\n",
        "    \"60. What are some creative and unique proposal ideas that would surprise her?\": \"Plan a flash mob proposal, a scavenger hunt leading to the proposal, or a surprise proposal during a special trip or event.\",\n",
        "    \"61. How can I make sure the proposal location is special and memorable?\": \"Choose a location that holds sentimental value for both of you or a place where you shared a meaningful experience.\",\n",
        "    \"62. How can I involve our loved ones in the proposal in a thoughtful way?\": \"Plan a gathering with close friends and family immediately after the proposal, or invite them to be a part of the proposal itself if she'd appreciate that.\",\n",
        "    \"63. How can I handle potential nerves or unexpected emotions during the proposal?\": \"Embrace the emotions, pause if needed, and reassure her that your emotions stem from your deep love and happiness.\",\n",
        "    \"64. How can I incorporate elements of her culture or traditions into the proposal to make it meaningful for her?\": \"Research and understand her culture's proposal traditions, and incorporate elements that resonate with her and your relationship.\",\n",
        "    \"65. What should I do to ensure she is comfortable and at ease during the proposal?\": \"Choose a setting she's comfortable in, gauge her mood and emotions, and reassure her that there's no pressure.\",\n",
        "    \"66. How can I make the proposal a surprise without raising her suspicions?\": \"Disguise the proposal plans as a regular outing or activity, and keep your intentions a secret until the perfect moment.\",\n",
        "    \"67. What are some potential obstacles I should anticipate when planning the proposal, and how can I overcome them?\": \"Anticipate weather conditions, location accessibility, or unexpected delays, and have a contingency plan in place.\",\n",
        "    \"68. How can I ensure the proposal reflects our personalities and the unique essence of our relationship?\": \"Incorporate elements that symbolize your journey as a couple, your shared interests, and the bond you share.\",\n",
        "    \"69. How should I react if she needs time to think about the proposal or wants to discuss it further before giving an answer?\": \"Respect her need for reflection, reassure her of your love and commitment, and give her the time and space she needs to process the moment.\",\n",
        "    \"70. How can I plan a romantic and thoughtful date on a budget?\": \"Plan a picnic at a beautiful park, stargazing at night, or a movie night with homemade popcorn and your partner's favorite films.\"\n",
        "}\n",
        "#print(relationship_advice[\"3. How do I handle conflicts in a relationship?\"])"
      ]
    },
    {
      "cell_type": "code",
      "execution_count": null,
      "metadata": {
        "id": "aaCRalf8dTYV"
      },
      "outputs": [],
      "source": [
        "daily_gestures = {\n",
        "    \"71. What can I do to show my support for her interests, hobbies, or creative pursuits daily?\": \"Show genuine interest, attend her events or performances, and celebrate her achievements in her chosen pursuits.\",\n",
        "    \"72: How can I ensure we have quality time together daily amidst our busy schedules?\": \"Prioritize and schedule time for each other, whether it's a meal, a walk, or simply a heart-to-heart conversation.\",\n",
        "    \"73. What gestures can I make daily to remind her how beautiful and loved she is?\": \"Compliment her appearance, leave love notes, and plan surprise dates or outings to make her feel cherished.\",\n",
        "    \"74. How can I be attuned to her emotional needs and provide comfort or reassurance daily?\": \"Ask how she's feeling, offer a comforting embrace, and validate her emotions to provide the support she needs.\",\n",
        "    \"75. What can I do to make sure she stays physically healthy and active daily?\": \"Encourage physical activities, suggest workouts or walks together, and prepare healthy meals to promote overall well-being.\",\n",
        "    \"76. How can I ensure she has opportunities for personal growth and learning daily?\": \"Encourage reading, learning, and self-improvement, and support her in pursuing new knowledge or skills.\",\n",
        "    \"77. What gestures can I make daily to strengthen our emotional connection and intimacy?\": \"Prioritize cuddling, share intimate conversations, and show affection to deepen your emotional bond.\",\n",
        "    \"78. How can I be attentive to her needs and provide reassurance or encouragement daily?\": \"Ask how her day was, offer words of encouragement, and reassure her of your love and commitment.\",\n",
        "    \"79. What can I do daily to create an atmosphere of trust, safety, and security in our relationship?\": \"Be reliable and consistent, keep your promises, and communicate openly and honestly to build trust and a sense of security.\",\n",
        "    \"80. How can I ensure that the proposal is personal and meaningful to her?\": \"Consider her preferences, hobbies, and cherished memories to tailor the proposal to something she will deeply appreciate.\",\n",
        "    \"81. What are some creative and unique proposal ideas that would surprise her?\": \"Plan a flash mob proposal, a scavenger hunt leading to the proposal, or a surprise proposal during a special trip or event.\",\n",
        "    \"82. How can I make sure the proposal location is special and memorable?\": \"Choose a location that holds sentimental value for both of you or a place where you shared a meaningful experience.\",\n",
        "    \"83. How can I involve our loved ones in the proposal in a thoughtful way?\": \"Plan a gathering with close friends and family immediately after the proposal, or invite them to be a part of the proposal itself if she'd appreciate that.\",\n",
        "    \"84. What can I do to manage my nerves and anxiety before proposing?\": \"Take deep breaths, practice what you want to say, and remind yourself of your love and commitment to each other.\",\n",
        "    \"85. How can I ensure the proposal feels authentic and genuine to both of us?\": \"Speak from your heart, express your true feelings, and let your love and sincerity shine through in your words and actions.\",\n",
        "    \"86. How should I decide on the timing for the proposal?\": \"Consider significant dates or moments in your relationship, but ultimately choose a time when you both feel secure and ready for this step.\",\n",
        "    \"87. What are some ways to incorporate her favorite activities or hobbies into the proposal?\": \"Plan the proposal around an activity she loves, such as a hike, a concert, or a painting class, and propose during or after the activity.\",\n",
        "    \"88. How can I ensure the proposal is a complete surprise and keeps her guessing?\": \"Keep your plans and intentions a secret, enlist the help of close friends or family, and choose unexpected moments or locations for the proposal.\",\n",
        "    \"89. How can I make the proposal a heartfelt and emotional moment for both of us?\": \"Express your love sincerely, recount your favorite memories together, and let her know how she has positively impacted your life.\",\n",
        "    \"90. What are some touching and heartfelt words I can use in my proposal?\": \"Speak about your love, commitment, and dreams together. Share how she completes you and makes your life better.\",\n",
        "    \"91. How can I create a keepsake or memento from the proposal to commemorate the moment?\": \"Hire a photographer or videographer to capture the proposal, or create a scrapbook or journal entry capturing your feelings and the day's events.\",\n",
        "    \"92. What can I do to make her feel truly special and loved during the proposal?\": \"Shower her with compliments, make eye contact, and let her know how much she means to you before and after the proposal.\",\n",
        "    \"93. How should I handle potential nerves or unexpected emotions during the proposal?\": \"Embrace the emotions, pause if needed, and reassure her that your emotions stem from your deep love and happiness.\",\n",
        "    \"94. How can I incorporate elements of her culture or traditions into the proposal to make it meaningful for her?\": \"Research and understand her culture's proposal traditions, and incorporate elements that resonate with her and your relationship.\",\n",
        "    \"95. What should I do to ensure she is comfortable and at ease during the proposal?\": \"Choose a setting she's comfortable in, gauge her mood and emotions, and reassure her that there's no pressure.\",\n",
        "    \"96. How can I make the proposal a surprise without raising her suspicions?\": \"Disguise the proposal plans as a regular outing or activity, and keep your intentions a secret until the perfect moment.\",\n",
        "    \"97. What are some potential obstacles I should anticipate when planning the proposal, and how can I overcome them?\": \"Anticipate weather conditions, location accessibility, or unexpected delays, and have a contingency plan in place.\",\n",
        "    \"98. How can I ensure the proposal reflects our personalities and the unique essence of our relationship?\": \"Incorporate elements that symbolize your journey as a couple, your shared interests, and the bond you share.\",\n",
        "    \"99. How should I react if she needs time to think about the proposal or wants to discuss it further before giving an answer?\": \"Respect her need for reflection, reassure her of your love and commitment, and give her the time and space she needs to process the moment.\",\n",
        "    \"100. How can I plan a romantic and thoughtful date on a budget?\": \"Plan a picnic at a beautiful park, stargazing at night, or a movie night with homemade popcorn and your partner's favorite films.\"\n",
        "}"
      ]
    },
    {
      "cell_type": "code",
      "execution_count": null,
      "metadata": {
        "id": "vLqiiUixdYsM"
      },
      "outputs": [],
      "source": [
        "\n",
        "# relationship_tips = {**relationship_advice, **daily_gestures}"
      ]
    },
    {
      "cell_type": "code",
      "execution_count": null,
      "metadata": {
        "id": "hkfXYOfNbvY1"
      },
      "outputs": [],
      "source": [
        "\n",
        "# user_question = input(\"Ask me anything about your Relationship: \")\n",
        "# if user_question in relationship_tips:\n",
        "#     print(\"Answer: \" + relationship_tips[user_question])\n",
        "# else:\n",
        "#     print(\"Sorry, I don't have an Idea.\")"
      ]
    },
    {
      "cell_type": "code",
      "execution_count": null,
      "metadata": {
        "id": "p4oxEV-25PqN"
      },
      "outputs": [],
      "source": [
        "integrated_dictionary = {\n",
        "    **relationship_advice,\n",
        "    **daily_gestures}"
      ]
    },
    {
      "cell_type": "code",
      "execution_count": null,
      "metadata": {
        "colab": {
          "background_save": true,
          "base_uri": "https://localhost:8080/"
        },
        "id": "9wQWQMbBsx-a",
        "outputId": "c077a387-8d5b-4681-864f-e21ab74fdec0"
      },
      "outputs": [
        {
          "output_type": "stream",
          "name": "stdout",
          "text": [
            "Ask me anything about your Relationship:(or type 'quit' to exit): hi\n",
            "Sorry, I don't have an answer to that question.\n",
            "Ask me anything about your Relationship:(or type 'quit' to exit): hlo\n",
            "Sorry, I don't have an answer to that question.\n"
          ]
        }
      ],
      "source": [
        "# Function to get user input and provide answers\n",
        "def get_user_input():\n",
        "    while True:\n",
        "        # Get user input for the question\n",
        "        user_question = input(\"Ask me anything about your Relationship:(or type 'quit' to exit): \")\n",
        "\n",
        "        # Check if the user wants to quit\n",
        "        if user_question.lower() == 'quit':\n",
        "            print(\"Thanks! come again with your Relationship Problem\")\n",
        "            break\n",
        "\n",
        "        # Check if the user's question is in the integrated dictionary\n",
        "        if user_question in integrated_dictionary:\n",
        "            # If the question is found, print the corresponding answer\n",
        "            print(\"Answer: \" + integrated_dictionary[user_question])\n",
        "        else:\n",
        "            # If the question is not found, provide a default response\n",
        "            print(\"Sorry, I don't have an answer to that question.\")\n",
        "\n",
        "# Call the function to start the interaction\n",
        "get_user_input()"
      ]
    }
  ],
  "metadata": {
    "colab": {
      "provenance": []
    },
    "kernelspec": {
      "display_name": "Python 3",
      "name": "python3"
    },
    "language_info": {
      "name": "python"
    }
  },
  "nbformat": 4,
  "nbformat_minor": 0
}